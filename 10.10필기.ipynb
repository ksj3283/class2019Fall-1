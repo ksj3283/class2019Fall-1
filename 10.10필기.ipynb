{
 "cells": [
  {
   "cell_type": "markdown",
   "metadata": {},
   "source": [
    "10/10 배운 거"
   ]
  },
  {
   "cell_type": "code",
   "execution_count": 9,
   "metadata": {},
   "outputs": [
    {
     "name": "stdout",
     "output_type": "stream",
     "text": [
      "1\n",
      "[1, 2, 3, 4]\n",
      "2\n",
      "[1, 2, 3, 4]\n",
      "3\n",
      "[1, 2, 3, 4]\n",
      "4\n",
      "[1, 2, 3, 4]\n"
     ]
    }
   ],
   "source": [
    "a=[1,2,3,4]\n",
    "for i in a:\n",
    "    #for loop\n",
    "    #in 뒤에 있는 데어티를 하나씩 차례대로 실행하라 ex) 1-> 2-> 3-> 4\n",
    "    #반드시 indent 되어야 실행된다\n",
    "    print(i)\n",
    "    print(a)"
   ]
  },
  {
   "cell_type": "code",
   "execution_count": 19,
   "metadata": {
    "scrolled": true
   },
   "outputs": [
    {
     "name": "stdout",
     "output_type": "stream",
     "text": [
      "1\n",
      "2\n",
      "3\n",
      "4\n"
     ]
    }
   ],
   "source": [
    "a=[1,2,3,4]\n",
    "for i in range(len(a)):                   #일반적으로 len(a)사용. 숫자를 써서 range(4)로 해도 됨.\n",
    "    print(a[i])\n",
    "#range(a): 0부터 a개의 list를 만든다. 즉 range(4)면 0,1,2,3, 항. 4개짜리 list를 만들어줌.\n",
    "#for loop의 용도: 방대한 양의 데이터를 일일이 print하지 않고 실행할 수 있다. "
   ]
  },
  {
   "cell_type": "code",
   "execution_count": 17,
   "metadata": {},
   "outputs": [
    {
     "name": "stdout",
     "output_type": "stream",
     "text": [
      "red\n",
      "green\n",
      "blue\n",
      "purple\n"
     ]
    }
   ],
   "source": [
    "a=['red','green','blue','purple']\n",
    "for s in a:\n",
    "    print(s)"
   ]
  },
  {
   "cell_type": "code",
   "execution_count": 20,
   "metadata": {},
   "outputs": [
    {
     "name": "stdout",
     "output_type": "stream",
     "text": [
      "red\n",
      "green\n",
      "blue\n",
      "purple\n"
     ]
    }
   ],
   "source": [
    "a=['red','green','blue','purple']\n",
    "for s in range(len(a)):\n",
    "    print(a[s])"
   ]
  },
  {
   "cell_type": "code",
   "execution_count": 28,
   "metadata": {},
   "outputs": [
    {
     "name": "stdout",
     "output_type": "stream",
     "text": [
      "red: 20.0%\n",
      "green: 30.0%\n",
      "blue: 10.0%\n",
      "purple: 40.0%\n"
     ]
    }
   ],
   "source": [
    "a=['red','green','blue','purple']\n",
    "b=[0.2, 0.3, 0.1, 0.4]\n",
    "for i, s in enumerate(a):\n",
    "    #enumerate(a): a의 list에 번호를 매긴다. 위의 경우 i에 번호, s에 list의 데이터(red green...)가 들어간다.\n",
    "    print(\"{}: {}%\".format(s, b[i]*100))\n",
    "    #\"{}: {}%\".format(a,b) -> \"\"안의 형식으로 실행하겠다. a는 앞의 괄호, b는 뒤의 괄호 안에 실행된다."
   ]
  },
  {
   "cell_type": "code",
   "execution_count": 30,
   "metadata": {},
   "outputs": [
    {
     "name": "stdout",
     "output_type": "stream",
     "text": [
      "red: 20.0%\n",
      "green: 30.0%\n",
      "blue: 10.0%\n",
      "purple: 40.0%\n"
     ]
    }
   ],
   "source": [
    "a=['red','green','blue','purple']\n",
    "b=[0.2, 0.3, 0.1, 0.4]\n",
    "for i, s in zip(a,b):\n",
    "    #zip(a,b): a와 b를 pair로 묶어줌.\n",
    "     print(\"{}: {}%\".format(i, s*100))\n",
    "    "
   ]
  },
  {
   "cell_type": "code",
   "execution_count": 34,
   "metadata": {},
   "outputs": [
    {
     "name": "stdout",
     "output_type": "stream",
     "text": [
      "yay!\n",
      "let's go\n"
     ]
    }
   ],
   "source": [
    "a=0\n",
    "if a == 0:                 #a가 0이면   if a != 0: a가 0이 아니면 \n",
    "    print(\"yay!\")\n",
    "    print(\"let's go\")"
   ]
  },
  {
   "cell_type": "code",
   "execution_count": 40,
   "metadata": {},
   "outputs": [
    {
     "name": "stdout",
     "output_type": "stream",
     "text": [
      "태영\n"
     ]
    }
   ],
   "source": [
    "a=0\n",
    "if a >0:                 #  >=, <= , >, <\n",
    "    print('상준')\n",
    "else:\n",
    "    print('태영')        #else: -> if에 해당하지 않으면~(if not)"
   ]
  },
  {
   "cell_type": "code",
   "execution_count": 41,
   "metadata": {},
   "outputs": [
    {
     "name": "stdout",
     "output_type": "stream",
     "text": [
      "3\n",
      "4\n",
      "6\n",
      "8\n"
     ]
    }
   ],
   "source": [
    "#시험문제! 이중, 삼중.... for loop\n",
    "for i in range(1,3):                   #range(1,3)  -> 1에서 시작해서 3직전까지 즉, 1, 2\n",
    "    for j in range(3,5):               #과정: 3*1, 4*1, 3*2, 4*2 (즉, 하위 loop먼저 돌고, 상위의 loop가 돈다.)\n",
    "        print(i*j)"
   ]
  },
  {
   "cell_type": "code",
   "execution_count": 42,
   "metadata": {},
   "outputs": [
    {
     "name": "stdout",
     "output_type": "stream",
     "text": [
      "4\n",
      "8\n"
     ]
    }
   ],
   "source": [
    "for i in range(1,3):                   \n",
    "    for j in range(3,5):\n",
    "        if j >=4:\n",
    "            print(i*j)"
   ]
  },
  {
   "cell_type": "code",
   "execution_count": 43,
   "metadata": {},
   "outputs": [],
   "source": [
    "for i in range(1,3):\n",
    "    if i >=3:\n",
    "        for j in range(3,5):\n",
    "            print(i*j)"
   ]
  },
  {
   "cell_type": "code",
   "execution_count": null,
   "metadata": {},
   "outputs": [],
   "source": []
  }
 ],
 "metadata": {
  "kernelspec": {
   "display_name": "Python 3",
   "language": "python",
   "name": "python3"
  },
  "language_info": {
   "codemirror_mode": {
    "name": "ipython",
    "version": 3
   },
   "file_extension": ".py",
   "mimetype": "text/x-python",
   "name": "python",
   "nbconvert_exporter": "python",
   "pygments_lexer": "ipython3",
   "version": "3.7.3"
  }
 },
 "nbformat": 4,
 "nbformat_minor": 2
}
